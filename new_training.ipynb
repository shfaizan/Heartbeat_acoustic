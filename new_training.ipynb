{
 "metadata": {
  "language_info": {
   "codemirror_mode": {
    "name": "ipython",
    "version": 3
   },
   "file_extension": ".py",
   "mimetype": "text/x-python",
   "name": "python",
   "nbconvert_exporter": "python",
   "pygments_lexer": "ipython3",
   "version": "3.8.3-final"
  },
  "orig_nbformat": 2,
  "kernelspec": {
   "name": "Python 3.8.3 64-bit ('venv')",
   "display_name": "Python 3.8.3 64-bit ('venv')",
   "metadata": {
    "interpreter": {
     "hash": "ffb478a602508006934fe57c9be3fa7e4b454b73e9b09131d64c9d0435dbc2c2"
    }
   }
  }
 },
 "nbformat": 4,
 "nbformat_minor": 2,
 "cells": [
  {
   "cell_type": "code",
   "execution_count": 1,
   "metadata": {},
   "outputs": [],
   "source": [
    "import os\n",
    "import glob\n",
    "import numpy as np\n",
    "from tqdm import tqdm\n",
    "import itertools\n",
    "import matplotlib.pyplot as plt\n",
    "import pandas as pd\n",
    "\n",
    "# Audio\n",
    "import librosa\n",
    "import librosa.display\n",
    "\n",
    "# Scikit learn\n",
    "from sklearn.model_selection import train_test_split\n",
    "from sklearn.metrics import classification_report, accuracy_score, confusion_matrix\n",
    "from sklearn.preprocessing import LabelEncoder\n",
    "from sklearn.utils import shuffle\n",
    "from sklearn.utils import class_weight\n",
    "\n",
    "# Keras\n",
    "import keras\n",
    "from keras.models import Sequential\n",
    "from keras.layers import Dense, Dropout, Activation, Flatten\n",
    "from keras.layers import Convolution2D, Conv2D, MaxPooling2D, GlobalAveragePooling2D\n",
    "from keras.utils import to_categorical\n",
    "\n",
    "import warnings\n",
    "warnings.filterwarnings('ignore', category=FutureWarning)"
   ]
  },
  {
   "cell_type": "code",
   "execution_count": null,
   "metadata": {},
   "outputs": [],
   "source": [
    "dataset = []\n",
    "for folder in [\"./set_a/**\",\"./set_b/**\"]:\n",
    "    for filename in glob.iglob(folder):\n",
    "        if os.path.exists(filename):\n",
    "            label = os.path.basename(filename).split(\"_\")[0]\n",
    "            duration = librosa.get_duration(filename=filename)\n",
    "            # skip audio smaller than 3 secs\n",
    "            if duration>=3:\n",
    "                slice_size = 3\n",
    "                iterations = int((duration-slice_size)/(slice_size-1))\n",
    "                iterations += 1\n",
    "#                 initial_offset = (duration % slice_size)/2\n",
    "                initial_offset = (duration - ((iterations*(slice_size-1))+1))/2\n",
    "                if label not in [\"Aunlabelledtest\", \"Bunlabelledtest\", \"artifact\"]:\n",
    "                    for i in range(iterations):\n",
    "                        offset = initial_offset + i*(slice_size-1)\n",
    "                        if (label == \"normal\"):\n",
    "                            dataset.append({\n",
    "                                \"filename\": filename,\n",
    "                                \"label\": \"normal\",\n",
    "                                \"offset\": offset\n",
    "                            })\n",
    "                        else:\n",
    "                            dataset.append({\n",
    "                                \"filename\": filename,\n",
    "                                \"label\": \"abnormal\",\n",
    "                                \"offset\": offset\n",
    "                            })\n",
    "                        \n",
    "dataset = pd.DataFrame(dataset)\n",
    "dataset = shuffle(dataset, random_state=42)\n",
    "dataset.info()"
   ]
  }
 ]
}